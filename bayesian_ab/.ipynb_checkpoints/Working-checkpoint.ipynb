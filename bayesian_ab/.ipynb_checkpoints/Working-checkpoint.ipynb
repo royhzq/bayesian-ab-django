{
 "cells": [
  {
   "cell_type": "code",
   "execution_count": 1,
   "metadata": {},
   "outputs": [],
   "source": [
    "import pandas as pd\n",
    "import functools\n",
    "from abtest.utils import epsilon_greedy"
   ]
  },
  {
   "cell_type": "code",
   "execution_count": 2,
   "metadata": {},
   "outputs": [],
   "source": [
    "var_A ={'code': 'A', 'impressions': 1, 'conversions': 1, 'conversion_rate': 1.0, 'html_template': 'abtest/homepage_A.html'}\n",
    "var_B ={'code': 'B', 'impressions': 1, 'conversions': 1, 'conversion_rate': 1.0, 'html_template': 'abtest/homepage_B.html'}\n",
    "var_C ={'code': 'C', 'impressions': 1, 'conversions': 1, 'conversion_rate': 1.0, 'html_template': 'abtest/homepage_C.html'}"
   ]
  },
  {
   "cell_type": "code",
   "execution_count": 3,
   "metadata": {},
   "outputs": [],
   "source": [
    "variants = [var_A, var_B, var_C]"
   ]
  },
  {
   "cell_type": "code",
   "execution_count": 26,
   "metadata": {},
   "outputs": [
    {
     "data": {
      "text/plain": [
       "{'code': 'A',\n",
       " 'impressions': 1,\n",
       " 'conversions': 1,\n",
       " 'conversion_rate': 1.0,\n",
       " 'html_template': 'abtest/homepage_A.html'}"
      ]
     },
     "execution_count": 26,
     "metadata": {},
     "output_type": "execute_result"
    }
   ],
   "source": [
    "epsilon_greedy(variants)"
   ]
  },
  {
   "cell_type": "code",
   "execution_count": 30,
   "metadata": {},
   "outputs": [
    {
     "ename": "IndentationError",
     "evalue": "unexpected indent (<ipython-input-30-fdeaa40fa3f5>, line 14)",
     "output_type": "error",
     "traceback": [
      "\u001b[0;36m  File \u001b[0;32m\"<ipython-input-30-fdeaa40fa3f5>\"\u001b[0;36m, line \u001b[0;32m14\u001b[0m\n\u001b[0;31m    if random.random() < 0.5:\u001b[0m\n\u001b[0m    ^\u001b[0m\n\u001b[0;31mIndentationError\u001b[0m\u001b[0;31m:\u001b[0m unexpected indent\n"
     ]
    }
   ],
   "source": [
    "num_A = 0\n",
    "num_B = 0\n",
    "num_C = 0\n",
    "for i in range(1000):\n",
    "    code = epsilon_greedy(variants)['code']\n",
    "    if code == 'A': \n",
    "        num_A+=1\n",
    "        if random.random() < 0.5:\n",
    "            var_A['impressions'] +=1\n",
    "        else:\n",
    "            var_A['impressions'] +=1\n",
    "            var_A['conversions'] +=1\n",
    "    if code == 'B': num_B+=1\n",
    "        if random.random() < 0.5:\n",
    "            var_B['impressions'] +=1\n",
    "        else:\n",
    "            var_B['impressions'] +=1\n",
    "            var_B['conversions'] +=1\n",
    "    if code == 'C': num_C+=1\n",
    "        if random.random() < 0.5:\n",
    "            var_C['impressions'] +=1\n",
    "        else:\n",
    "            var_C['impressions'] +=1\n",
    "            var_C['conversions'] +=1"
   ]
  },
  {
   "cell_type": "code",
   "execution_count": 28,
   "metadata": {},
   "outputs": [
    {
     "data": {
      "text/plain": [
       "937"
      ]
     },
     "execution_count": 28,
     "metadata": {},
     "output_type": "execute_result"
    }
   ],
   "source": [
    "num_A"
   ]
  },
  {
   "cell_type": "code",
   "execution_count": 29,
   "metadata": {},
   "outputs": [
    {
     "data": {
      "text/plain": [
       "35"
      ]
     },
     "execution_count": 29,
     "metadata": {},
     "output_type": "execute_result"
    }
   ],
   "source": [
    "num_B"
   ]
  },
  {
   "cell_type": "code",
   "execution_count": 162,
   "metadata": {},
   "outputs": [],
   "source": [
    "import uuid"
   ]
  },
  {
   "cell_type": "code",
   "execution_count": 163,
   "metadata": {},
   "outputs": [],
   "source": [
    "import random"
   ]
  },
  {
   "cell_type": "code",
   "execution_count": 186,
   "metadata": {},
   "outputs": [
    {
     "data": {
      "text/plain": [
       "0.3592175276412729"
      ]
     },
     "execution_count": 186,
     "metadata": {},
     "output_type": "execute_result"
    }
   ],
   "source": [
    "random.random()"
   ]
  },
  {
   "cell_type": "code",
   "execution_count": 192,
   "metadata": {},
   "outputs": [
    {
     "data": {
      "text/plain": [
       "[3]"
      ]
     },
     "execution_count": 192,
     "metadata": {},
     "output_type": "execute_result"
    }
   ],
   "source": [
    "random.sample([1,3,0],1)"
   ]
  },
  {
   "cell_type": "code",
   "execution_count": 160,
   "metadata": {},
   "outputs": [],
   "source": [
    "import functools\n",
    "\n",
    "def ab_campaign(func=None, campaign=None):\n",
    "    template=''\n",
    "    def _decorator(func):\n",
    "        @functools.wraps(func)\n",
    "        def wrapper(*args, **kwargs):\n",
    "            return func(*args, template=template, **kwargs)\n",
    "        return wrapper\n",
    "    return _decorator"
   ]
  },
  {
   "cell_type": "code",
   "execution_count": 161,
   "metadata": {},
   "outputs": [],
   "source": [
    "\n",
    "@ab_campaign(campaign='12311')\n",
    "def hello(**kwargs):\n",
    "    \n",
    "    return(kwargs)"
   ]
  },
  {
   "cell_type": "code",
   "execution_count": 159,
   "metadata": {},
   "outputs": [
    {
     "data": {
      "text/plain": [
       "{'template': '', 'z': 'ho'}"
      ]
     },
     "execution_count": 159,
     "metadata": {},
     "output_type": "execute_result"
    }
   ],
   "source": [
    "hello(z='ho')"
   ]
  },
  {
   "cell_type": "code",
   "execution_count": null,
   "metadata": {},
   "outputs": [],
   "source": []
  },
  {
   "cell_type": "code",
   "execution_count": null,
   "metadata": {},
   "outputs": [],
   "source": []
  }
 ],
 "metadata": {
  "kernelspec": {
   "display_name": "Django Shell-Plus",
   "language": "python",
   "name": "django_extensions"
  },
  "language_info": {
   "codemirror_mode": {
    "name": "ipython",
    "version": 3
   },
   "file_extension": ".py",
   "mimetype": "text/x-python",
   "name": "python",
   "nbconvert_exporter": "python",
   "pygments_lexer": "ipython3",
   "version": "3.6.8"
  }
 },
 "nbformat": 4,
 "nbformat_minor": 2
}
