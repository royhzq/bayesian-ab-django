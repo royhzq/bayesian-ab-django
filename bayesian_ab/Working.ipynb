{
 "cells": [
  {
   "cell_type": "code",
   "execution_count": 1,
   "metadata": {},
   "outputs": [],
   "source": [
    "import pandas as pd\n",
    "import random\n",
    "import functools\n",
    "import matplotlib.pyplot as plt\n",
    "from abtest.utils import epsilon_greedy, thompson_sampling, UCB1, loss, h"
   ]
  },
  {
   "cell_type": "code",
   "execution_count": 2,
   "metadata": {},
   "outputs": [],
   "source": [
    "conversion_prob = 0.3"
   ]
  },
  {
   "cell_type": "code",
   "execution_count": 3,
   "metadata": {
    "scrolled": true
   },
   "outputs": [
    {
     "data": {
      "text/plain": [
       "0"
      ]
     },
     "execution_count": 3,
     "metadata": {},
     "output_type": "execute_result"
    }
   ],
   "source": [
    "1 if random.random() > 1 - conversion_prob else 0"
   ]
  },
  {
   "cell_type": "code",
   "execution_count": 16,
   "metadata": {},
   "outputs": [
    {
     "data": {
      "text/plain": [
       "0.16666666666666669"
      ]
     },
     "execution_count": 16,
     "metadata": {},
     "output_type": "execute_result"
    }
   ],
   "source": [
    "loss(1,1,1,1)"
   ]
  },
  {
   "cell_type": "code",
   "execution_count": 17,
   "metadata": {},
   "outputs": [
    {
     "data": {
      "text/plain": [
       "0.026744171285783824"
      ]
     },
     "execution_count": 17,
     "metadata": {},
     "output_type": "execute_result"
    }
   ],
   "source": [
    "loss(23,36,78,120)"
   ]
  },
  {
   "cell_type": "code",
   "execution_count": 6,
   "metadata": {},
   "outputs": [
    {
     "data": {
      "text/plain": [
       "1.0"
      ]
     },
     "execution_count": 6,
     "metadata": {},
     "output_type": "execute_result"
    }
   ],
   "source": [
    "h(0,0,0,0)"
   ]
  },
  {
   "cell_type": "code",
   "execution_count": 7,
   "metadata": {},
   "outputs": [
    {
     "name": "stderr",
     "output_type": "stream",
     "text": [
      "/home/roy/bayesian-ab-django/bayesian-ab-django/bayesian_ab/abtest/utils.py:128: RuntimeWarning: divide by zero encountered in log\n",
      "  total += np.exp(betaln(a+j, b+d) - np.log(d+j) - betaln(1+j, d) - betaln(a, b))\n",
      "/home/roy/bayesian-ab-django/bayesian-ab-django/bayesian_ab/abtest/utils.py:128: RuntimeWarning: invalid value encountered in double_scalars\n",
      "  total += np.exp(betaln(a+j, b+d) - np.log(d+j) - betaln(1+j, d) - betaln(a, b))\n"
     ]
    },
    {
     "data": {
      "text/plain": [
       "nan"
      ]
     },
     "execution_count": 7,
     "metadata": {},
     "output_type": "execute_result"
    }
   ],
   "source": [
    "h(0,2,2,0)"
   ]
  },
  {
   "cell_type": "code",
   "execution_count": 63,
   "metadata": {},
   "outputs": [],
   "source": [
    "from scipy.special import betaln"
   ]
  },
  {
   "cell_type": "code",
   "execution_count": 64,
   "metadata": {},
   "outputs": [
    {
     "data": {
      "text/plain": [
       "<ufunc 'betaln'>"
      ]
     },
     "execution_count": 64,
     "metadata": {},
     "output_type": "execute_result"
    }
   ],
   "source": [
    "betaln"
   ]
  },
  {
   "cell_type": "code",
   "execution_count": 19,
   "metadata": {},
   "outputs": [],
   "source": [
    "#from scipy.special import beta \n",
    "# from scipy.stats import beta \n",
    "import scipy.stats\n",
    "import numpy as np"
   ]
  },
  {
   "cell_type": "code",
   "execution_count": 20,
   "metadata": {},
   "outputs": [],
   "source": [
    "import json\n",
    "import uuid"
   ]
  },
  {
   "cell_type": "code",
   "execution_count": 21,
   "metadata": {},
   "outputs": [
    {
     "data": {
      "text/plain": [
       "'ba1d9bf8-f626-4647-b7cc-d795ffbf001f'"
      ]
     },
     "execution_count": 21,
     "metadata": {},
     "output_type": "execute_result"
    }
   ],
   "source": [
    "str(uuid.uuid4())"
   ]
  },
  {
   "cell_type": "code",
   "execution_count": 5,
   "metadata": {},
   "outputs": [
    {
     "ename": "NameError",
     "evalue": "name 'm' is not defined",
     "output_type": "error",
     "traceback": [
      "\u001b[0;31m---------------------------------------------------------------------------\u001b[0m",
      "\u001b[0;31mNameError\u001b[0m                                 Traceback (most recent call last)",
      "\u001b[0;32m<ipython-input-5-d33025256875>\u001b[0m in \u001b[0;36m<module>\u001b[0;34m\u001b[0m\n\u001b[0;32m----> 1\u001b[0;31m \u001b[0mjson\u001b[0m\u001b[0;34m.\u001b[0m\u001b[0mdumps\u001b[0m\u001b[0;34m(\u001b[0m\u001b[0mm\u001b[0m\u001b[0;34m)\u001b[0m\u001b[0;34m\u001b[0m\u001b[0;34m\u001b[0m\u001b[0m\n\u001b[0m",
      "\u001b[0;31mNameError\u001b[0m: name 'm' is not defined"
     ]
    }
   ],
   "source": [
    "json.dumps(m)"
   ]
  },
  {
   "cell_type": "code",
   "execution_count": 6,
   "metadata": {},
   "outputs": [
    {
     "data": {
      "text/plain": [
       "0"
      ]
     },
     "execution_count": 6,
     "metadata": {},
     "output_type": "execute_result"
    }
   ],
   "source": [
    "int(False)"
   ]
  },
  {
   "cell_type": "code",
   "execution_count": 12,
   "metadata": {},
   "outputs": [
    {
     "data": {
      "text/plain": [
       "9007199254740991"
      ]
     },
     "execution_count": 12,
     "metadata": {},
     "output_type": "execute_result"
    }
   ],
   "source": [
    "2**53 -1"
   ]
  },
  {
   "cell_type": "code",
   "execution_count": 17,
   "metadata": {},
   "outputs": [
    {
     "data": {
      "text/plain": [
       "11.269695801851626"
      ]
     },
     "execution_count": 17,
     "metadata": {},
     "output_type": "execute_result"
    }
   ],
   "source": [
    "scipy.stats.beta.pdf(0.5, 100, 100)"
   ]
  },
  {
   "cell_type": "code",
   "execution_count": 620,
   "metadata": {},
   "outputs": [
    {
     "data": {
      "text/plain": [
       "3.2764524583027646e-155"
      ]
     },
     "execution_count": 620,
     "metadata": {},
     "output_type": "execute_result"
    }
   ],
   "source": [
    "scipy.special.beta(100,1223)"
   ]
  },
  {
   "cell_type": "code",
   "execution_count": 3,
   "metadata": {},
   "outputs": [
    {
     "data": {
      "text/plain": [
       "0.21098958326365938"
      ]
     },
     "execution_count": 3,
     "metadata": {},
     "output_type": "execute_result"
    }
   ],
   "source": [
    "np.random.beta(10,30)"
   ]
  },
  {
   "cell_type": "code",
   "execution_count": 10,
   "metadata": {},
   "outputs": [
    {
     "data": {
      "text/plain": [
       "0.03333333333333333"
      ]
     },
     "execution_count": 10,
     "metadata": {},
     "output_type": "execute_result"
    }
   ],
   "source": [
    "beta(0,3,3)"
   ]
  },
  {
   "cell_type": "code",
   "execution_count": 36,
   "metadata": {},
   "outputs": [
    {
     "data": {
      "text/plain": [
       "array([0.        , 2.13081269, 2.56821885])"
      ]
     },
     "execution_count": 36,
     "metadata": {},
     "output_type": "execute_result"
    }
   ],
   "source": [
    "scipy.stats.beta.pdf([0,0.1,0.3], 3, 9)"
   ]
  },
  {
   "cell_type": "code",
   "execution_count": 26,
   "metadata": {},
   "outputs": [
    {
     "data": {
      "text/plain": [
       "array([0.        , 0.01010101, 0.02020202, 0.03030303, 0.04040404,\n",
       "       0.05050505, 0.06060606, 0.07070707, 0.08080808, 0.09090909,\n",
       "       0.1010101 , 0.11111111, 0.12121212, 0.13131313, 0.14141414,\n",
       "       0.15151515, 0.16161616, 0.17171717, 0.18181818, 0.19191919,\n",
       "       0.2020202 , 0.21212121, 0.22222222, 0.23232323, 0.24242424,\n",
       "       0.25252525, 0.26262626, 0.27272727, 0.28282828, 0.29292929,\n",
       "       0.3030303 , 0.31313131, 0.32323232, 0.33333333, 0.34343434,\n",
       "       0.35353535, 0.36363636, 0.37373737, 0.38383838, 0.39393939,\n",
       "       0.4040404 , 0.41414141, 0.42424242, 0.43434343, 0.44444444,\n",
       "       0.45454545, 0.46464646, 0.47474747, 0.48484848, 0.49494949,\n",
       "       0.50505051, 0.51515152, 0.52525253, 0.53535354, 0.54545455,\n",
       "       0.55555556, 0.56565657, 0.57575758, 0.58585859, 0.5959596 ,\n",
       "       0.60606061, 0.61616162, 0.62626263, 0.63636364, 0.64646465,\n",
       "       0.65656566, 0.66666667, 0.67676768, 0.68686869, 0.6969697 ,\n",
       "       0.70707071, 0.71717172, 0.72727273, 0.73737374, 0.74747475,\n",
       "       0.75757576, 0.76767677, 0.77777778, 0.78787879, 0.7979798 ,\n",
       "       0.80808081, 0.81818182, 0.82828283, 0.83838384, 0.84848485,\n",
       "       0.85858586, 0.86868687, 0.87878788, 0.88888889, 0.8989899 ,\n",
       "       0.90909091, 0.91919192, 0.92929293, 0.93939394, 0.94949495,\n",
       "       0.95959596, 0.96969697, 0.97979798, 0.98989899, 1.        ])"
      ]
     },
     "execution_count": 26,
     "metadata": {},
     "output_type": "execute_result"
    }
   ],
   "source": [
    "np.linspace(0,1,100)"
   ]
  },
  {
   "cell_type": "code",
   "execution_count": 31,
   "metadata": {},
   "outputs": [
    {
     "data": {
      "text/plain": [
       "['#17becf',\n",
       " '#bcbd22',\n",
       " '#7f7f7f',\n",
       " '#e377c2',\n",
       " '#8c564b',\n",
       " '#9467bd',\n",
       " '#d62728',\n",
       " '#2ca02c',\n",
       " '#ff7f0e',\n",
       " '#1f77b4']"
      ]
     },
     "execution_count": 31,
     "metadata": {},
     "output_type": "execute_result"
    }
   ],
   "source": [
    "plt.rcParams['axes.prop_cycle'].by_key()['color'][::-1]"
   ]
  },
  {
   "cell_type": "code",
   "execution_count": 33,
   "metadata": {},
   "outputs": [
    {
     "name": "stdout",
     "output_type": "stream",
     "text": [
      "0 1\n",
      "1 2\n",
      "2 3\n"
     ]
    }
   ],
   "source": [
    "for i, j in enumerate([1,2,3]): print(i,j)"
   ]
  },
  {
   "cell_type": "code",
   "execution_count": 57,
   "metadata": {},
   "outputs": [
    {
     "data": {
      "text/plain": [
       "'2019-10-20 | 10:00:13'"
      ]
     },
     "execution_count": 57,
     "metadata": {},
     "output_type": "execute_result"
    }
   ],
   "source": [
    "import datetime\n",
    "datetime.datetime.utcnow().strftime('%Y-%m-%d | %H:%M:%S')"
   ]
  },
  {
   "cell_type": "code",
   "execution_count": 51,
   "metadata": {},
   "outputs": [
    {
     "data": {
      "text/plain": [
       "0"
      ]
     },
     "execution_count": 51,
     "metadata": {},
     "output_type": "execute_result"
    }
   ],
   "source": [
    "6%3"
   ]
  },
  {
   "cell_type": "code",
   "execution_count": 28,
   "metadata": {},
   "outputs": [
    {
     "data": {
      "text/plain": [
       "[(1, 4), (2, 5), (3, 6)]"
      ]
     },
     "execution_count": 28,
     "metadata": {},
     "output_type": "execute_result"
    }
   ],
   "source": [
    "list(zip([1,2,3],[4,5,6]))"
   ]
  },
  {
   "cell_type": "code",
   "execution_count": 32,
   "metadata": {},
   "outputs": [
    {
     "data": {
      "text/plain": [
       "array([0.        , 0.00299939, 0.01175395, 0.02590392, 0.045097  ,\n",
       "       0.06898842, 0.09724088, 0.12952459, 0.16551724, 0.20490404,\n",
       "       0.24737767, 0.29263832, 0.34039367, 0.3903589 , 0.44225668,\n",
       "       0.49581718, 0.55077805, 0.60688447, 0.66388908, 0.72155203,\n",
       "       0.77964096, 0.83793103, 0.89620485, 0.95425256, 1.01187179,\n",
       "       1.06886765, 1.12505277, 1.18024725, 1.23427871, 1.28698224,\n",
       "       1.33820044, 1.3877834 , 1.43558872, 1.48148148, 1.52533426,\n",
       "       1.56702712, 1.60644765, 1.6434909 , 1.67805944, 1.71006332,\n",
       "       1.73942009, 1.76605481, 1.7899    , 1.81089572, 1.82898948,\n",
       "       1.84413633, 1.85629878, 1.86544685, 1.87155805, 1.87461741,\n",
       "       1.87461741, 1.87155805, 1.86544685, 1.85629878, 1.84413633,\n",
       "       1.82898948, 1.81089572, 1.7899    , 1.76605481, 1.73942009,\n",
       "       1.71006332, 1.67805944, 1.6434909 , 1.60644765, 1.56702712,\n",
       "       1.52533426, 1.48148148, 1.43558872, 1.3877834 , 1.33820044,\n",
       "       1.28698224, 1.23427871, 1.18024725, 1.12505277, 1.06886765,\n",
       "       1.01187179, 0.95425256, 0.89620485, 0.83793103, 0.77964096,\n",
       "       0.72155203, 0.66388908, 0.60688447, 0.55077805, 0.49581718,\n",
       "       0.44225668, 0.3903589 , 0.34039367, 0.29263832, 0.24737767,\n",
       "       0.20490404, 0.16551724, 0.12952459, 0.09724088, 0.06898842,\n",
       "       0.045097  , 0.02590392, 0.01175395, 0.00299939, 0.        ])"
      ]
     },
     "execution_count": 32,
     "metadata": {},
     "output_type": "execute_result"
    }
   ],
   "source": [
    "betapdf.pdf(np.linspace(0,1,100), 3,3)"
   ]
  },
  {
   "cell_type": "code",
   "execution_count": 34,
   "metadata": {},
   "outputs": [
    {
     "data": {
      "text/plain": [
       "array([0.00000000e+00, 8.99632747e-06, 1.38155402e-04, 6.71012953e-04,\n",
       "       2.03373957e-03, 4.75940195e-03, 9.45578847e-03, 1.67766182e-02,\n",
       "       2.73959566e-02, 4.19856642e-02, 6.11957102e-02, 8.56371848e-02,\n",
       "       1.15867850e-01, 1.52380069e-01, 1.95590969e-01, 2.45834671e-01,\n",
       "       3.03356464e-01, 3.68308759e-01, 4.40748709e-01, 5.20637330e-01,\n",
       "       6.07840034e-01, 7.02128404e-01, 8.03183127e-01, 9.10597945e-01,\n",
       "       1.02388451e+00, 1.14247805e+00, 1.26574373e+00, 1.39298357e+00,\n",
       "       1.52344392e+00, 1.65632327e+00, 1.79078041e+00, 1.92594277e+00,\n",
       "       2.06091498e+00, 2.19478738e+00, 2.32664459e+00, 2.45557400e+00,\n",
       "       2.58067404e+00, 2.70106233e+00, 2.81588348e+00, 2.92431655e+00,\n",
       "       3.02558226e+00, 3.11894958e+00, 3.20374202e+00, 3.27934330e+00,\n",
       "       3.34520253e+00, 3.40083880e+00, 3.44584516e+00, 3.47989195e+00,\n",
       "       3.50272955e+00, 3.51419042e+00, 3.51419042e+00, 3.50272955e+00,\n",
       "       3.47989195e+00, 3.44584516e+00, 3.40083880e+00, 3.34520253e+00,\n",
       "       3.27934330e+00, 3.20374202e+00, 3.11894958e+00, 3.02558226e+00,\n",
       "       2.92431655e+00, 2.81588348e+00, 2.70106233e+00, 2.58067404e+00,\n",
       "       2.45557400e+00, 2.32664459e+00, 2.19478738e+00, 2.06091498e+00,\n",
       "       1.92594277e+00, 1.79078041e+00, 1.65632327e+00, 1.52344392e+00,\n",
       "       1.39298357e+00, 1.26574373e+00, 1.14247805e+00, 1.02388451e+00,\n",
       "       9.10597945e-01, 8.03183127e-01, 7.02128404e-01, 6.07840034e-01,\n",
       "       5.20637330e-01, 4.40748709e-01, 3.68308759e-01, 3.03356464e-01,\n",
       "       2.45834671e-01, 1.95590969e-01, 1.52380069e-01, 1.15867850e-01,\n",
       "       8.56371848e-02, 6.11957102e-02, 4.19856642e-02, 2.73959566e-02,\n",
       "       1.67766182e-02, 9.45578847e-03, 4.75940195e-03, 2.03373957e-03,\n",
       "       6.71012953e-04, 1.38155402e-04, 8.99632747e-06, 0.00000000e+00])"
      ]
     },
     "execution_count": 34,
     "metadata": {},
     "output_type": "execute_result"
    }
   ],
   "source": [
    "np.multiply(betapdf.pdf(np.linspace(0,1,100), 3,3),betapdf.pdf(np.linspace(0,1,100), 3,3))"
   ]
  },
  {
   "cell_type": "code",
   "execution_count": 64,
   "metadata": {
    "scrolled": true
   },
   "outputs": [
    {
     "data": {
      "text/plain": [
       "0.3333333333333333"
      ]
     },
     "execution_count": 64,
     "metadata": {},
     "output_type": "execute_result"
    }
   ],
   "source": [
    "scipy.special.beta(3,1)"
   ]
  },
  {
   "cell_type": "code",
   "execution_count": null,
   "metadata": {},
   "outputs": [],
   "source": []
  },
  {
   "cell_type": "code",
   "execution_count": 43,
   "metadata": {},
   "outputs": [],
   "source": []
  },
  {
   "cell_type": "code",
   "execution_count": null,
   "metadata": {},
   "outputs": [],
   "source": []
  },
  {
   "cell_type": "code",
   "execution_count": 207,
   "metadata": {},
   "outputs": [],
   "source": [
    "from scipy.special import betaln\n",
    "from scipy.special import beta\n",
    "\n",
    "def h(a,b,c,d):\n",
    "    # P(X > Y)\n",
    "    total = 0.0 \n",
    "    for j in range(c):\n",
    "        total += np.exp(betaln(a+j, b+d) - np.log(d+j) - betaln(1+j, d) - betaln(a, b))\n",
    "    return 1 - total\n",
    "    "
   ]
  },
  {
   "cell_type": "code",
   "execution_count": 63,
   "metadata": {},
   "outputs": [
    {
     "data": {
      "text/plain": [
       "2.3647750424515834e-14"
      ]
     },
     "execution_count": 63,
     "metadata": {},
     "output_type": "execute_result"
    }
   ],
   "source": [
    "h(100,200, 2000,100)"
   ]
  },
  {
   "cell_type": "code",
   "execution_count": 55,
   "metadata": {},
   "outputs": [
    {
     "data": {
      "text/plain": [
       "0.0"
      ]
     },
     "execution_count": 55,
     "metadata": {},
     "output_type": "execute_result"
    }
   ],
   "source": [
    "np.log(1)"
   ]
  },
  {
   "cell_type": "code",
   "execution_count": 365,
   "metadata": {},
   "outputs": [],
   "source": [
    "def loss(a,b,c,d):\n",
    "    # Expected loss of picking variant X over Y\n",
    "    # When Y is better than X\n",
    "    return (np.exp(betaln(a+1,b)-betaln(a,b))*h(a+1,b,c,d) - \\\n",
    "           np.exp(betaln(c+1,d)-betaln(c,d))*h(a,b,c+1,d))"
   ]
  },
  {
   "cell_type": "code",
   "execution_count": 26,
   "metadata": {},
   "outputs": [],
   "source": [
    "\n",
    "\n",
    "a,b,c,d = 1000,1000, 120,200\n",
    "\n"
   ]
  },
  {
   "cell_type": "code",
   "execution_count": 5,
   "metadata": {},
   "outputs": [
    {
     "ename": "NameError",
     "evalue": "name 'loss' is not defined",
     "output_type": "error",
     "traceback": [
      "\u001b[0;31m---------------------------------------------------------------------------\u001b[0m",
      "\u001b[0;31mNameError\u001b[0m                                 Traceback (most recent call last)",
      "\u001b[0;32m<ipython-input-5-d4709fcbf813>\u001b[0m in \u001b[0;36m<module>\u001b[0;34m\u001b[0m\n\u001b[0;32m----> 1\u001b[0;31m \u001b[0mloss\u001b[0m\u001b[0;34m(\u001b[0m\u001b[0ma\u001b[0m\u001b[0;34m,\u001b[0m\u001b[0mb\u001b[0m\u001b[0;34m,\u001b[0m\u001b[0mc\u001b[0m\u001b[0;34m,\u001b[0m\u001b[0md\u001b[0m\u001b[0;34m)\u001b[0m\u001b[0;34m\u001b[0m\u001b[0;34m\u001b[0m\u001b[0m\n\u001b[0m",
      "\u001b[0;31mNameError\u001b[0m: name 'loss' is not defined"
     ]
    }
   ],
   "source": [
    "loss(a,b,c,d)"
   ]
  },
  {
   "cell_type": "code",
   "execution_count": 584,
   "metadata": {},
   "outputs": [
    {
     "data": {
      "text/plain": [
       "0.0001384814384414899"
      ]
     },
     "execution_count": 584,
     "metadata": {},
     "output_type": "execute_result"
    }
   ],
   "source": [
    "loss(c,d,a,b)"
   ]
  },
  {
   "cell_type": "code",
   "execution_count": 585,
   "metadata": {},
   "outputs": [
    {
     "data": {
      "text/plain": [
       "0.9883253735044635"
      ]
     },
     "execution_count": 585,
     "metadata": {},
     "output_type": "execute_result"
    }
   ],
   "source": [
    "h(a,b,c+1,d)"
   ]
  },
  {
   "cell_type": "code",
   "execution_count": 27,
   "metadata": {
    "scrolled": true
   },
   "outputs": [
    {
     "data": {
      "text/plain": [
       "[<matplotlib.lines.Line2D at 0x7f6348f59438>]"
      ]
     },
     "execution_count": 27,
     "metadata": {},
     "output_type": "execute_result"
    },
    {
     "data": {
      "image/png": "[encoded data removed]",
      "text/plain": [
       "<Figure size 432x288 with 1 Axes>"
      ]
     },
     "metadata": {
      "needs_background": "light"
     },
     "output_type": "display_data"
    }
   ],
   "source": [
    "plt.plot(np.linspace(0,1,1000), scipy.stats.beta.pdf(np.linspace(0,1,1000), a,b))\n",
    "#plt.plot(np.linspace(0,1,100), scipy.stats.beta.pdf(np.linspace(0,1,100), c,d))\n",
    "\n"
   ]
  },
  {
   "cell_type": "code",
   "execution_count": 29,
   "metadata": {},
   "outputs": [
    {
     "data": {
      "text/plain": [
       "35.678022291701694"
      ]
     },
     "execution_count": 29,
     "metadata": {},
     "output_type": "execute_result"
    }
   ],
   "source": [
    "scipy.stats.beta.pdf(0.5, 1000, 1000)"
   ]
  },
  {
   "cell_type": "code",
   "execution_count": null,
   "metadata": {},
   "outputs": [],
   "source": []
  },
  {
   "cell_type": "code",
   "execution_count": 64,
   "metadata": {},
   "outputs": [],
   "source": [
    "var_A ={'code': 'A', 'impressions': 1, 'conversions': 1, 'conversion_rate': 1.0, 'html_template': 'abtest/homepage_A.html'}\n",
    "var_B ={'code': 'B', 'impressions': 1, 'conversions': 1, 'conversion_rate': 1.0, 'html_template': 'abtest/homepage_B.html'}\n",
    "var_C ={'code': 'C', 'impressions': 1, 'conversions': 1, 'conversion_rate': 1.0, 'html_template': 'abtest/homepage_C.html'}"
   ]
  },
  {
   "cell_type": "code",
   "execution_count": 65,
   "metadata": {},
   "outputs": [],
   "source": [
    "variants = [var_A, var_B, var_C]"
   ]
  },
  {
   "cell_type": "code",
   "execution_count": 66,
   "metadata": {},
   "outputs": [
    {
     "data": {
      "text/plain": [
       "{'code': 'C',\n",
       " 'impressions': 1,\n",
       " 'conversions': 1,\n",
       " 'conversion_rate': 1.0,\n",
       " 'html_template': 'abtest/homepage_C.html'}"
      ]
     },
     "execution_count": 66,
     "metadata": {},
     "output_type": "execute_result"
    }
   ],
   "source": [
    "UCB1(variants)"
   ]
  },
  {
   "cell_type": "code",
   "execution_count": 587,
   "metadata": {},
   "outputs": [],
   "source": [
    "m = {'sd':2, 'ns':4}"
   ]
  },
  {
   "cell_type": "code",
   "execution_count": 589,
   "metadata": {},
   "outputs": [],
   "source": [
    "m.get('saa')"
   ]
  },
  {
   "cell_type": "code",
   "execution_count": 67,
   "metadata": {},
   "outputs": [],
   "source": [
    "num_A = 0\n",
    "num_B = 0\n",
    "num_C = 0\n",
    "for i in range(1000):\n",
    "    variants = [var_A, var_B, var_C]\n",
    "    code = epsilon_greedy(variants)['code']\n",
    "    if code == 'A': \n",
    "        num_A+=1\n",
    "        if random.random() < 0.5:\n",
    "            var_A['impressions'] +=1\n",
    "        else:\n",
    "            var_A['impressions'] +=1\n",
    "            var_A['conversions'] +=1\n",
    "        var_A['conversion_rate'] = var_A['conversions']/var_A['impressions']\n",
    "            \n",
    "    if code == 'B': \n",
    "        num_B+=1\n",
    "        if random.random() < 0.3:\n",
    "            var_B['impressions'] +=1\n",
    "        else:\n",
    "            var_B['impressions'] +=1\n",
    "            var_B['conversions'] +=1\n",
    "        var_B['conversion_rate'] = var_B['conversions']/var_B['impressions']\n",
    "\n",
    "    if code == 'C': \n",
    "        num_C+=1\n",
    "        if random.random() < 0.5:\n",
    "            var_C['impressions'] +=1\n",
    "        else:\n",
    "            var_C['impressions'] +=1\n",
    "            var_C['conversions'] +=1\n",
    "        var_C['conversion_rate'] = var_C['conversions']/var_C['impressions']"
   ]
  },
  {
   "cell_type": "code",
   "execution_count": 68,
   "metadata": {},
   "outputs": [
    {
     "data": {
      "text/plain": [
       "{'code': 'A',\n",
       " 'impressions': 39,\n",
       " 'conversions': 15,\n",
       " 'conversion_rate': 0.38461538461538464,\n",
       " 'html_template': 'abtest/homepage_A.html'}"
      ]
     },
     "execution_count": 68,
     "metadata": {},
     "output_type": "execute_result"
    }
   ],
   "source": [
    "var_A"
   ]
  },
  {
   "cell_type": "code",
   "execution_count": 69,
   "metadata": {},
   "outputs": [
    {
     "data": {
      "text/plain": [
       "{'code': 'B',\n",
       " 'impressions': 923,\n",
       " 'conversions': 643,\n",
       " 'conversion_rate': 0.6966413867822319,\n",
       " 'html_template': 'abtest/homepage_B.html'}"
      ]
     },
     "execution_count": 69,
     "metadata": {},
     "output_type": "execute_result"
    }
   ],
   "source": [
    "var_B"
   ]
  },
  {
   "cell_type": "code",
   "execution_count": 70,
   "metadata": {},
   "outputs": [
    {
     "data": {
      "text/plain": [
       "{'code': 'C',\n",
       " 'impressions': 41,\n",
       " 'conversions': 23,\n",
       " 'conversion_rate': 0.5609756097560976,\n",
       " 'html_template': 'abtest/homepage_C.html'}"
      ]
     },
     "execution_count": 70,
     "metadata": {},
     "output_type": "execute_result"
    }
   ],
   "source": [
    "var_C"
   ]
  },
  {
   "cell_type": "code",
   "execution_count": 71,
   "metadata": {},
   "outputs": [
    {
     "name": "stdout",
     "output_type": "stream",
     "text": [
      "38 922 40\n"
     ]
    }
   ],
   "source": [
    "print(num_A, num_B, num_C)"
   ]
  },
  {
   "cell_type": "code",
   "execution_count": 72,
   "metadata": {},
   "outputs": [],
   "source": [
    "def plot_beta(variants):\n",
    "    x = np.linspace(0,1,200)\n",
    "    for var in variants:\n",
    "        y = beta.pdf(x, var['conversions'], var['impressions'] - var['conversions'])\n",
    "        plt.plot(x, y)"
   ]
  },
  {
   "cell_type": "code",
   "execution_count": 73,
   "metadata": {},
   "outputs": [
    {
     "data": {
      "image/png": "[encoded data removed]",
      "text/plain": [
       "<Figure size 432x288 with 1 Axes>"
      ]
     },
     "metadata": {
      "needs_background": "light"
     },
     "output_type": "display_data"
    }
   ],
   "source": [
    "plot_beta([var_A, var_B, var_C])"
   ]
  },
  {
   "cell_type": "code",
   "execution_count": 14,
   "metadata": {},
   "outputs": [],
   "source": [
    "from scipy.special import beta\n"
   ]
  },
  {
   "cell_type": "code",
   "execution_count": 30,
   "metadata": {},
   "outputs": [],
   "source": [
    "for i in range(100000): \n",
    "    beta(2,3)"
   ]
  },
  {
   "cell_type": "code",
   "execution_count": 192,
   "metadata": {},
   "outputs": [
    {
     "data": {
      "text/plain": [
       "[3]"
      ]
     },
     "execution_count": 192,
     "metadata": {},
     "output_type": "execute_result"
    }
   ],
   "source": [
    "random.sample([1,3,0],1)"
   ]
  },
  {
   "cell_type": "code",
   "execution_count": 160,
   "metadata": {},
   "outputs": [],
   "source": [
    "import functools\n",
    "\n",
    "def ab_campaign(func=None, campaign=None):\n",
    "    template=''\n",
    "    def _decorator(func):\n",
    "        @functools.wraps(func)\n",
    "        def wrapper(*args, **kwargs):\n",
    "            return func(*args, template=template, **kwargs)\n",
    "        return wrapper\n",
    "    return _decorator"
   ]
  },
  {
   "cell_type": "code",
   "execution_count": 161,
   "metadata": {},
   "outputs": [],
   "source": [
    "\n",
    "@ab_campaign(campaign='12311')\n",
    "def hello(**kwargs):\n",
    "    \n",
    "    return(kwargs)"
   ]
  },
  {
   "cell_type": "code",
   "execution_count": 159,
   "metadata": {},
   "outputs": [
    {
     "data": {
      "text/plain": [
       "{'template': '', 'z': 'ho'}"
      ]
     },
     "execution_count": 159,
     "metadata": {},
     "output_type": "execute_result"
    }
   ],
   "source": [
    "hello(z='ho')"
   ]
  },
  {
   "cell_type": "code",
   "execution_count": null,
   "metadata": {},
   "outputs": [],
   "source": []
  },
  {
   "cell_type": "code",
   "execution_count": null,
   "metadata": {},
   "outputs": [],
   "source": []
  }
 ],
 "metadata": {
  "kernelspec": {
   "display_name": "Django Shell-Plus",
   "language": "python",
   "name": "django_extensions"
  },
  "language_info": {
   "codemirror_mode": {
    "name": "ipython",
    "version": 3
   },
   "file_extension": ".py",
   "mimetype": "text/x-python",
   "name": "python",
   "nbconvert_exporter": "python",
   "pygments_lexer": "ipython3",
   "version": "3.6.8"
  }
 },
 "nbformat": 4,
 "nbformat_minor": 2
}
