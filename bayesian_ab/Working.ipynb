{
 "cells": [
  {
   "cell_type": "code",
   "execution_count": 1,
   "metadata": {},
   "outputs": [],
   "source": [
    "import pandas as pd\n",
    "import random\n",
    "import functools\n",
    "import matplotlib.pyplot as plt\n",
    "from abtest.utils import epsilon_greedy, thompson_sampling, UCB1"
   ]
  },
  {
   "cell_type": "code",
   "execution_count": 2,
   "metadata": {},
   "outputs": [],
   "source": [
    "from scipy.stats import beta\n",
    "import numpy as np"
   ]
  },
  {
   "cell_type": "code",
   "execution_count": 3,
   "metadata": {},
   "outputs": [
    {
     "data": {
      "text/plain": [
       "0.20771290644800416"
      ]
     },
     "execution_count": 3,
     "metadata": {},
     "output_type": "execute_result"
    }
   ],
   "source": [
    "np.random.beta(10,30)"
   ]
  },
  {
   "cell_type": "code",
   "execution_count": null,
   "metadata": {},
   "outputs": [],
   "source": []
  },
  {
   "cell_type": "code",
   "execution_count": 22,
   "metadata": {},
   "outputs": [],
   "source": [
    "var_A ={'code': 'A', 'impressions': 1, 'conversions': 1, 'conversion_rate': 1.0, 'html_template': 'abtest/homepage_A.html'}\n",
    "var_B ={'code': 'B', 'impressions': 1, 'conversions': 1, 'conversion_rate': 1.0, 'html_template': 'abtest/homepage_B.html'}\n",
    "var_C ={'code': 'C', 'impressions': 1, 'conversions': 1, 'conversion_rate': 1.0, 'html_template': 'abtest/homepage_C.html'}"
   ]
  },
  {
   "cell_type": "code",
   "execution_count": 23,
   "metadata": {},
   "outputs": [],
   "source": [
    "variants = [var_A, var_B, var_C]"
   ]
  },
  {
   "cell_type": "code",
   "execution_count": 24,
   "metadata": {},
   "outputs": [
    {
     "data": {
      "text/plain": [
       "{'code': 'C',\n",
       " 'impressions': 1,\n",
       " 'conversions': 1,\n",
       " 'conversion_rate': 1.0,\n",
       " 'html_template': 'abtest/homepage_C.html'}"
      ]
     },
     "execution_count": 24,
     "metadata": {},
     "output_type": "execute_result"
    }
   ],
   "source": [
    "UCB1(variants)"
   ]
  },
  {
   "cell_type": "code",
   "execution_count": 25,
   "metadata": {},
   "outputs": [],
   "source": [
    "num_A = 0\n",
    "num_B = 0\n",
    "num_C = 0\n",
    "for i in range(1000):\n",
    "    variants = [var_A, var_B, var_C]\n",
    "    code = UCB1(variants)['code']\n",
    "    if code == 'A': \n",
    "        num_A+=1\n",
    "        if random.random() < 0.5:\n",
    "            var_A['impressions'] +=1\n",
    "        else:\n",
    "            var_A['impressions'] +=1\n",
    "            var_A['conversions'] +=1\n",
    "        var_A['conversion_rate'] = var_A['conversions']/var_A['impressions']\n",
    "            \n",
    "    if code == 'B': \n",
    "        num_B+=1\n",
    "        if random.random() < 0.3:\n",
    "            var_B['impressions'] +=1\n",
    "        else:\n",
    "            var_B['impressions'] +=1\n",
    "            var_B['conversions'] +=1\n",
    "        var_B['conversion_rate'] = var_B['conversions']/var_B['impressions']\n",
    "\n",
    "    if code == 'C': \n",
    "        num_C+=1\n",
    "        if random.random() < 0.5:\n",
    "            var_C['impressions'] +=1\n",
    "        else:\n",
    "            var_C['impressions'] +=1\n",
    "            var_C['conversions'] +=1\n",
    "        var_C['conversion_rate'] = var_C['conversions']/var_C['impressions']"
   ]
  },
  {
   "cell_type": "code",
   "execution_count": 26,
   "metadata": {},
   "outputs": [
    {
     "data": {
      "text/plain": [
       "{'code': 'A',\n",
       " 'impressions': 129,\n",
       " 'conversions': 67,\n",
       " 'conversion_rate': 0.5193798449612403,\n",
       " 'html_template': 'abtest/homepage_A.html'}"
      ]
     },
     "execution_count": 26,
     "metadata": {},
     "output_type": "execute_result"
    }
   ],
   "source": [
    "var_A"
   ]
  },
  {
   "cell_type": "code",
   "execution_count": 27,
   "metadata": {},
   "outputs": [
    {
     "data": {
      "text/plain": [
       "{'code': 'B',\n",
       " 'impressions': 782,\n",
       " 'conversions': 558,\n",
       " 'conversion_rate': 0.7135549872122762,\n",
       " 'html_template': 'abtest/homepage_B.html'}"
      ]
     },
     "execution_count": 27,
     "metadata": {},
     "output_type": "execute_result"
    }
   ],
   "source": [
    "var_B"
   ]
  },
  {
   "cell_type": "code",
   "execution_count": 28,
   "metadata": {},
   "outputs": [
    {
     "data": {
      "text/plain": [
       "{'code': 'C',\n",
       " 'impressions': 92,\n",
       " 'conversions': 43,\n",
       " 'conversion_rate': 0.4673913043478261,\n",
       " 'html_template': 'abtest/homepage_C.html'}"
      ]
     },
     "execution_count": 28,
     "metadata": {},
     "output_type": "execute_result"
    }
   ],
   "source": [
    "var_C"
   ]
  },
  {
   "cell_type": "code",
   "execution_count": 29,
   "metadata": {},
   "outputs": [
    {
     "name": "stdout",
     "output_type": "stream",
     "text": [
      "128 781 91\n"
     ]
    }
   ],
   "source": [
    "print(num_A, num_B, num_C)"
   ]
  },
  {
   "cell_type": "code",
   "execution_count": 30,
   "metadata": {},
   "outputs": [],
   "source": [
    "def plot_beta(variants):\n",
    "    x = np.linspace(0,1,200)\n",
    "    for var in variants:\n",
    "        y = beta.pdf(x, var['conversions'], var['impressions'] - var['conversions'])\n",
    "        plt.plot(x, y)"
   ]
  },
  {
   "cell_type": "code",
   "execution_count": 31,
   "metadata": {},
   "outputs": [
    {
     "data": {
      "image/png": "[encoded data removed]",
      "text/plain": [
       "<Figure size 432x288 with 1 Axes>"
      ]
     },
     "metadata": {
      "needs_background": "light"
     },
     "output_type": "display_data"
    }
   ],
   "source": [
    "plot_beta([var_A, var_B, var_C])"
   ]
  },
  {
   "cell_type": "code",
   "execution_count": 14,
   "metadata": {},
   "outputs": [],
   "source": [
    "from scipy.special import beta\n"
   ]
  },
  {
   "cell_type": "code",
   "execution_count": 30,
   "metadata": {},
   "outputs": [],
   "source": [
    "for i in range(100000): \n",
    "    beta(2,3)"
   ]
  },
  {
   "cell_type": "code",
   "execution_count": 192,
   "metadata": {},
   "outputs": [
    {
     "data": {
      "text/plain": [
       "[3]"
      ]
     },
     "execution_count": 192,
     "metadata": {},
     "output_type": "execute_result"
    }
   ],
   "source": [
    "random.sample([1,3,0],1)"
   ]
  },
  {
   "cell_type": "code",
   "execution_count": 160,
   "metadata": {},
   "outputs": [],
   "source": [
    "import functools\n",
    "\n",
    "def ab_campaign(func=None, campaign=None):\n",
    "    template=''\n",
    "    def _decorator(func):\n",
    "        @functools.wraps(func)\n",
    "        def wrapper(*args, **kwargs):\n",
    "            return func(*args, template=template, **kwargs)\n",
    "        return wrapper\n",
    "    return _decorator"
   ]
  },
  {
   "cell_type": "code",
   "execution_count": 161,
   "metadata": {},
   "outputs": [],
   "source": [
    "\n",
    "@ab_campaign(campaign='12311')\n",
    "def hello(**kwargs):\n",
    "    \n",
    "    return(kwargs)"
   ]
  },
  {
   "cell_type": "code",
   "execution_count": 159,
   "metadata": {},
   "outputs": [
    {
     "data": {
      "text/plain": [
       "{'template': '', 'z': 'ho'}"
      ]
     },
     "execution_count": 159,
     "metadata": {},
     "output_type": "execute_result"
    }
   ],
   "source": [
    "hello(z='ho')"
   ]
  },
  {
   "cell_type": "code",
   "execution_count": null,
   "metadata": {},
   "outputs": [],
   "source": []
  },
  {
   "cell_type": "code",
   "execution_count": null,
   "metadata": {},
   "outputs": [],
   "source": []
  }
 ],
 "metadata": {
  "kernelspec": {
   "display_name": "Django Shell-Plus",
   "language": "python",
   "name": "django_extensions"
  },
  "language_info": {
   "codemirror_mode": {
    "name": "ipython",
    "version": 3
   },
   "file_extension": ".py",
   "mimetype": "text/x-python",
   "name": "python",
   "nbconvert_exporter": "python",
   "pygments_lexer": "ipython3",
   "version": "3.6.8"
  }
 },
 "nbformat": 4,
 "nbformat_minor": 2
}
